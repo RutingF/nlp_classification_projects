{
 "cells": [
  {
   "cell_type": "code",
   "execution_count": 1,
   "metadata": {
    "deletable": false,
    "editable": false,
    "nbgrader": {
     "cell_type": "code",
     "checksum": "97714be9ccaf89bbff57d64a249680b8",
     "grade": false,
     "grade_id": "cell-f403cc37f510e3b4",
     "locked": true,
     "schema_version": 3,
     "solution": false,
     "task": false
    }
   },
   "outputs": [],
   "source": [
    "import pandas as pd\n",
    "from sentiment_classification import * "
   ]
  },
  {
   "cell_type": "markdown",
   "metadata": {},
   "source": [
    "## Data Review & Train /Test Spliting"
   ]
  },
  {
   "cell_type": "code",
   "execution_count": 2,
   "metadata": {},
   "outputs": [
    {
     "name": "stdout",
     "output_type": "stream",
     "text": [
      "13.406317300789663 percent of data is spam.\n"
     ]
    },
    {
     "data": {
      "text/html": [
       "<div>\n",
       "<style scoped>\n",
       "    .dataframe tbody tr th:only-of-type {\n",
       "        vertical-align: middle;\n",
       "    }\n",
       "\n",
       "    .dataframe tbody tr th {\n",
       "        vertical-align: top;\n",
       "    }\n",
       "\n",
       "    .dataframe thead th {\n",
       "        text-align: right;\n",
       "    }\n",
       "</style>\n",
       "<table border=\"1\" class=\"dataframe\">\n",
       "  <thead>\n",
       "    <tr style=\"text-align: right;\">\n",
       "      <th></th>\n",
       "      <th>text</th>\n",
       "      <th>target</th>\n",
       "    </tr>\n",
       "  </thead>\n",
       "  <tbody>\n",
       "    <tr>\n",
       "      <th>0</th>\n",
       "      <td>Go until jurong point, crazy.. Available only ...</td>\n",
       "      <td>0</td>\n",
       "    </tr>\n",
       "    <tr>\n",
       "      <th>1</th>\n",
       "      <td>Ok lar... Joking wif u oni...</td>\n",
       "      <td>0</td>\n",
       "    </tr>\n",
       "    <tr>\n",
       "      <th>2</th>\n",
       "      <td>Free entry in 2 a wkly comp to win FA Cup fina...</td>\n",
       "      <td>1</td>\n",
       "    </tr>\n",
       "    <tr>\n",
       "      <th>3</th>\n",
       "      <td>U dun say so early hor... U c already then say...</td>\n",
       "      <td>0</td>\n",
       "    </tr>\n",
       "    <tr>\n",
       "      <th>4</th>\n",
       "      <td>Nah I don't think he goes to usf, he lives aro...</td>\n",
       "      <td>0</td>\n",
       "    </tr>\n",
       "    <tr>\n",
       "      <th>5</th>\n",
       "      <td>FreeMsg Hey there darling it's been 3 week's n...</td>\n",
       "      <td>1</td>\n",
       "    </tr>\n",
       "    <tr>\n",
       "      <th>6</th>\n",
       "      <td>Even my brother is not like to speak with me. ...</td>\n",
       "      <td>0</td>\n",
       "    </tr>\n",
       "    <tr>\n",
       "      <th>7</th>\n",
       "      <td>As per your request 'Melle Melle (Oru Minnamin...</td>\n",
       "      <td>0</td>\n",
       "    </tr>\n",
       "    <tr>\n",
       "      <th>8</th>\n",
       "      <td>WINNER!! As a valued network customer you have...</td>\n",
       "      <td>1</td>\n",
       "    </tr>\n",
       "    <tr>\n",
       "      <th>9</th>\n",
       "      <td>Had your mobile 11 months or more? U R entitle...</td>\n",
       "      <td>1</td>\n",
       "    </tr>\n",
       "  </tbody>\n",
       "</table>\n",
       "</div>"
      ],
      "text/plain": [
       "                                                text  target\n",
       "0  Go until jurong point, crazy.. Available only ...       0\n",
       "1                      Ok lar... Joking wif u oni...       0\n",
       "2  Free entry in 2 a wkly comp to win FA Cup fina...       1\n",
       "3  U dun say so early hor... U c already then say...       0\n",
       "4  Nah I don't think he goes to usf, he lives aro...       0\n",
       "5  FreeMsg Hey there darling it's been 3 week's n...       1\n",
       "6  Even my brother is not like to speak with me. ...       0\n",
       "7  As per your request 'Melle Melle (Oru Minnamin...       0\n",
       "8  WINNER!! As a valued network customer you have...       1\n",
       "9  Had your mobile 11 months or more? U R entitle...       1"
      ]
     },
     "execution_count": 2,
     "metadata": {},
     "output_type": "execute_result"
    }
   ],
   "source": [
    "df = pd.read_csv('data/review_w_spam_label.csv')\n",
    "\n",
    "# Apply one-hot encoding to spam data \n",
    "df['target'] = np.where(df['target']=='spam',1,0)\n",
    "spam = df[df['target'] == 1]\n",
    "\n",
    "print(f'{(len(spam)/len(df))*100} percent of data is spam.')\n",
    "df.head(10)"
   ]
  },
  {
   "cell_type": "markdown",
   "metadata": {},
   "source": [
    "### Call class and function to split training /testing data "
   ]
  },
  {
   "cell_type": "code",
   "execution_count": 3,
   "metadata": {
    "deletable": false,
    "editable": false,
    "nbgrader": {
     "cell_type": "code",
     "checksum": "8458ef46cc0956f75d602cfadbb125f8",
     "grade": false,
     "grade_id": "cell-73f5a763723ca5b1",
     "locked": true,
     "schema_version": 3,
     "solution": false,
     "task": false
    }
   },
   "outputs": [],
   "source": [
    "SentClass = SentimentClassification(df, 'text', 'target')"
   ]
  },
  {
   "cell_type": "markdown",
   "metadata": {},
   "source": [
    "## Model Evaluation \n",
    "- 1. Multinomial **Naive Bayes classifier** model w/ Count Vectorizer\n",
    "- 2. Multinomial **Naive Bayes classifier** model w/ TFI-DF Vectorizer (Minimum Document Frequency = **3**)\n",
    "- 3. **SVM** w/ TF-IDF Vectorizer and document length as additional feature (Minimum Document Frequency = **5**)\n",
    "- 4. **Logistic Regression** model w/ Tfidf Vectorizer (Minimum Document Frequency = **5** ; and using **word n-grams from n=1 to n=3** unigrams, bigrams, and trigrams).\n",
    "  Add following additional features:\n",
    "    - the length of document (number of characters)\n",
    "    - **number of digits per document**\n",
    "- 5. **Logistic Regression** model w/ Count Vectorizer \n",
    "    - First 2000 rows only of training data X_train \n",
    "    - Ignoring terms that have a document frequency strictly lower than **5** and using **character n-grams from n=2 to n=5.**\n",
    "    - Using this document-term matrix and the following additional features:\n",
    "      * the length of document (number of characters)\n",
    "      * number of digits per document\n",
    "      * **number of non-word characters (anything other than a letter, digit or underscore.)**\n",
    "    - fit a Logistic Regression model with regularization C=100 and max_iter=1000"
   ]
  },
  {
   "cell_type": "code",
   "execution_count": 4,
   "metadata": {
    "deletable": false,
    "nbgrader": {
     "cell_type": "code",
     "checksum": "978982d101ec080d93ae0fbceb856df2",
     "grade": false,
     "grade_id": "cell-d6823cd2d4b78595",
     "locked": false,
     "schema_version": 3,
     "solution": true,
     "task": false
    }
   },
   "outputs": [
    {
     "name": "stdout",
     "output_type": "stream",
     "text": [
      "AUC, multinomial Naive Bayes classifier model w/ Count Vectorizer 0.991545422134696\n",
      "AUC, multinomial Naive Bayes classifier model w/ TFI-DF Vectorizer 0.9954968337775665\n",
      "AUC, SVM using TF-IDF and document length as additional feature: 0.9963202213809143\n",
      "AUC, Logistic Regression w/ Tfidf and document length + num of digits per document as additional features 0.9938882569648405\n",
      "AUC, Logistic Regressions w/ Count Vectorizer, adding 3 features: 0.9918552535524506 \n",
      "Features added - 1) length of document 2) num of digits per document 3) num of non-word characters\n"
     ]
    }
   ],
   "source": [
    "# AUC, multinomial Naive Bayes classifier model w/ Count Vectorizer\n",
    "count_vect = SentClass.NB_classifier_count_vectorizer()\n",
    "\n",
    "# AUC, multinomial Naive Bayes classifier model w/ TFI-DF Vectorizer\n",
    "tfidf_vect, tfidf_X_train_vectorized = SentClass.get_tfidf_vectorizer(3)\n",
    "SentClass.NB_classfier_tfidf(tfidf_vect, tfidf_X_train_vectorized)\n",
    "\n",
    "# AUC, SVM using TF-IDF and document length as additional feature\n",
    "SentClass.Tfidf_Vector_with_SVM(5)\n",
    "\n",
    "# AUC, Logistic Regression using TF-IDF and document length + Num of digits per document as additional features \n",
    "SentClass.logistic_regression_Tfidf_ngrams()\n",
    "\n",
    "count_vect_ngrams, LR_model_w_count = SentClass.logistic_regressions_count_vect_ngrams(2000)"
   ]
  },
  {
   "cell_type": "markdown",
   "metadata": {},
   "source": [
    "## Feature Review\n",
    "### TFI-DF Features \n",
    "- Print out features with the smallest and largest tf-idf, among the **max** tf-idf values"
   ]
  },
  {
   "cell_type": "code",
   "execution_count": 5,
   "metadata": {
    "deletable": false,
    "nbgrader": {
     "cell_type": "code",
     "checksum": "398b7634e65c7fdec4e98f8966139517",
     "grade": false,
     "grade_id": "cell-76cb5ae962a7a6f5",
     "locked": false,
     "schema_version": 3,
     "solution": true,
     "task": false
    }
   },
   "outputs": [
    {
     "data": {
      "text/plain": [
       "(moral              0.204078\n",
       " 36504              0.215685\n",
       " sum1               0.216737\n",
       " 100percent         0.217856\n",
       " genuine            0.217856\n",
       " showing            0.218333\n",
       " crack              0.219528\n",
       " havnt              0.219528\n",
       " honeybee           0.219528\n",
       " laughed            0.219528\n",
       " sweetest           0.219528\n",
       " norm150p           0.219653\n",
       " w45wq              0.219653\n",
       " minnaminunginte    0.220250\n",
       " nurungu            0.220250\n",
       " vettam             0.220250\n",
       " affection          0.224637\n",
       " bcums              0.224637\n",
       " kettoda            0.224637\n",
       " manda              0.224637\n",
       " dtype: float64,\n",
       " yup        1.0\n",
       " you        1.0\n",
       " yo         1.0\n",
       " where      1.0\n",
       " unsold     1.0\n",
       " type       1.0\n",
       " towards    1.0\n",
       " too        1.0\n",
       " those      1.0\n",
       " thanx      1.0\n",
       " thank      1.0\n",
       " space      1.0\n",
       " say        1.0\n",
       " sad        1.0\n",
       " right      1.0\n",
       " out        1.0\n",
       " or         1.0\n",
       " okie       1.0\n",
       " ok         1.0\n",
       " nite       1.0\n",
       " dtype: float64)"
      ]
     },
     "execution_count": 5,
     "metadata": {},
     "output_type": "execute_result"
    }
   ],
   "source": [
    "SentClass.get_tfidf_features(tfidf_vect, 20, 20)"
   ]
  },
  {
   "cell_type": "markdown",
   "metadata": {
    "deletable": false,
    "editable": false,
    "nbgrader": {
     "cell_type": "markdown",
     "checksum": "d3d2d857dbe6d218394aff1a073463bf",
     "grade": false,
     "grade_id": "cell-822483537e34697a",
     "locked": true,
     "schema_version": 3,
     "solution": false,
     "task": false
    }
   },
   "source": [
    "### Review non-word characters in dataset \n",
    "- Non-word characters: anything other than a letter, digit or underscore\n",
    "- Use RegEx `\\w` and `\\W` character classes\n",
    "- Calculate the average number of non-word characters per document for not spam and spam documents"
   ]
  },
  {
   "cell_type": "code",
   "execution_count": 6,
   "metadata": {
    "deletable": false,
    "nbgrader": {
     "cell_type": "code",
     "checksum": "dcd6cd538aa54ac0ec7b03365bd74689",
     "grade": false,
     "grade_id": "cell-8d2212cb850f907d",
     "locked": false,
     "schema_version": 3,
     "solution": true,
     "task": false
    }
   },
   "outputs": [
    {
     "name": "stdout",
     "output_type": "stream",
     "text": [
      "Average number of non-word characters in spam data 29.041499330655956 \n",
      "Average number of non-word characters in non-spam data 17.29181347150259\n"
     ]
    }
   ],
   "source": [
    "nonword_in_spam, nonword_in_nonspam = SentClass.calculate_avg_nonword_char('text')"
   ]
  },
  {
   "cell_type": "code",
   "execution_count": 7,
   "metadata": {
    "deletable": false,
    "editable": false,
    "nbgrader": {
     "cell_type": "code",
     "checksum": "b7901a0e4f5b169e1305280bf4a7a2c8",
     "grade": true,
     "grade_id": "cell-1d6ac20393ffe9ff",
     "locked": true,
     "points": 1,
     "schema_version": 3,
     "solution": false,
     "task": false
    }
   },
   "outputs": [
    {
     "data": {
      "text/html": [
       "<div>\n",
       "<style scoped>\n",
       "    .dataframe tbody tr th:only-of-type {\n",
       "        vertical-align: middle;\n",
       "    }\n",
       "\n",
       "    .dataframe tbody tr th {\n",
       "        vertical-align: top;\n",
       "    }\n",
       "\n",
       "    .dataframe thead th {\n",
       "        text-align: right;\n",
       "    }\n",
       "</style>\n",
       "<table border=\"1\" class=\"dataframe\">\n",
       "  <thead>\n",
       "    <tr style=\"text-align: right;\">\n",
       "      <th></th>\n",
       "      <th>nonword_char</th>\n",
       "    </tr>\n",
       "  </thead>\n",
       "  <tbody>\n",
       "    <tr>\n",
       "      <th>2</th>\n",
       "      <td>.        (  )&amp;'  '</td>\n",
       "    </tr>\n",
       "    <tr>\n",
       "      <th>5</th>\n",
       "      <td>'   '     ! '        ?  !     , £.</td>\n",
       "    </tr>\n",
       "    <tr>\n",
       "      <th>8</th>\n",
       "      <td>!!            £  !    .   .    .</td>\n",
       "    </tr>\n",
       "    <tr>\n",
       "      <th>9</th>\n",
       "      <td>?              !</td>\n",
       "    </tr>\n",
       "    <tr>\n",
       "      <th>11</th>\n",
       "      <td>!    ,  &gt;     .  /, , +</td>\n",
       "    </tr>\n",
       "    <tr>\n",
       "      <th>12</th>\n",
       "      <td>!           £,  !   :   :  &amp; ..</td>\n",
       "    </tr>\n",
       "    <tr>\n",
       "      <th>15</th>\n",
       "      <td>:    ,            &gt;&gt; ://. .?=</td>\n",
       "    </tr>\n",
       "    <tr>\n",
       "      <th>19</th>\n",
       "      <td>-    / .           :,  /.  +</td>\n",
       "    </tr>\n",
       "    <tr>\n",
       "      <th>34</th>\n",
       "      <td>£/       .</td>\n",
       "    </tr>\n",
       "    <tr>\n",
       "      <th>42</th>\n",
       "      <td>-   -  =                 +  .</td>\n",
       "    </tr>\n",
       "  </tbody>\n",
       "</table>\n",
       "</div>"
      ],
      "text/plain": [
       "                                nonword_char\n",
       "2                         .        (  )&'  '\n",
       "5       '   '     ! '        ?  !     , £.  \n",
       "8           !!            £  !    .   .    .\n",
       "9                   ?              !        \n",
       "11             !    ,  >     .  /, , +      \n",
       "12        !           £,  !   :   :  & ..   \n",
       "15             :    ,            >> ://. .?=\n",
       "19              -    / .           :,  /.  +\n",
       "34                       £/       .         \n",
       "42      -   -  =                 +  .       "
      ]
     },
     "execution_count": 7,
     "metadata": {},
     "output_type": "execute_result"
    }
   ],
   "source": [
    "# Review the non-word characters found in spam \n",
    "nonword_in_spam.head(10)"
   ]
  },
  {
   "cell_type": "markdown",
   "metadata": {
    "deletable": false,
    "editable": false,
    "nbgrader": {
     "cell_type": "markdown",
     "checksum": "4aad0115bf7fe21b470680010fde6246",
     "grade": false,
     "grade_id": "cell-733de6a9548fe648",
     "locked": true,
     "schema_version": 3,
     "solution": false,
     "task": false
    }
   },
   "source": [
    "### find the 10 smallest and 10 largest coefficients from the model\n",
    "\n",
    "- The list of 10 smallest coefficients should be sorted smallest first, the list of 10 largest coefficients should be sorted largest first.\n"
   ]
  },
  {
   "cell_type": "code",
   "execution_count": 8,
   "metadata": {
    "deletable": false,
    "nbgrader": {
     "cell_type": "code",
     "checksum": "a5efa62b1d9cf26ce2beb28db30c1b83",
     "grade": false,
     "grade_id": "cell-1233becfd19fff26",
     "locked": false,
     "schema_version": 3,
     "solution": true,
     "task": false
    }
   },
   "outputs": [
    {
     "name": "stdout",
     "output_type": "stream",
     "text": [
      "Smallest coefficients: ['..', '. ', ' m', ' i', 'he', 'at', ' d', ' h', 'us', 'th'] \n",
      "Largest coefficients: ['00', '50', ' 0', '0 ', 'xt', ' 1', '09', 'å£', 'xt ', ' å']\n"
     ]
    }
   ],
   "source": [
    "SentClass.return_coef(count_vect_ngrams, LR_model_w_count)"
   ]
  }
 ],
 "metadata": {
  "coursera": {
   "course_slug": "python-text-mining",
   "graded_item_id": "Pn19K",
   "launcher_item_id": "y1juS",
   "part_id": "ctlgo"
  },
  "kernelspec": {
   "display_name": "Python 3 (ipykernel)",
   "language": "python",
   "name": "python3"
  },
  "language_info": {
   "codemirror_mode": {
    "name": "ipython",
    "version": 3
   },
   "file_extension": ".py",
   "mimetype": "text/x-python",
   "name": "python",
   "nbconvert_exporter": "python",
   "pygments_lexer": "ipython3",
   "version": "3.9.6"
  }
 },
 "nbformat": 4,
 "nbformat_minor": 4
}
